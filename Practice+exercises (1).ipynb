{
 "cells": [
  {
   "cell_type": "markdown",
   "id": "186222d0",
   "metadata": {},
   "source": [
    "Exercise 1\n",
    "\n",
    "Write a function to report the weather condition. \n",
    "Input ==> Temperature ('C)\n",
    "\n",
    "IF the temperature is below 0, print \"Freezing Cold\"\n",
    "IF the temperature is 0-20, print \"Cold Weather\"\n",
    "IF the temperature is 21-30, print \" Warm Weather\"\n",
    "Otherwise, print \"Hot Weather\""
   ]
  },
  {
   "cell_type": "code",
   "execution_count": 1,
   "id": "4bbb422e",
   "metadata": {},
   "outputs": [
    {
     "name": "stdout",
     "output_type": "stream",
     "text": [
      "Freezing Cold\n"
     ]
    }
   ],
   "source": [
    "def weather_report(temp: float):\n",
    "    if temp < 0:\n",
    "        print(\"Freezing Cold\")\n",
    "    elif 0<=temp<=20:\n",
    "        print(\"Cold  Weather\")\n",
    "    elif 21<=temp<=30:\n",
    "        print(\"Warm Weather\")\n",
    "    else:\n",
    "        print(\"Hot Weather\")\n",
    "\n",
    "weather_report(-5)"
   ]
  },
  {
   "cell_type": "markdown",
   "id": "36f44c18",
   "metadata": {},
   "source": [
    "Exercise 2\n",
    "\n",
    "Write a function that takes an integer as an input score\n",
    "\n",
    "If the score is greater than or equal to 50, print \"Pass\"\n",
    "If the score is greater than or equal to 75, print \"Good\"\n",
    "If the score is exactly 100, print \"Perfect\"\n",
    "\n",
    "Since these are multiple independent conditions, more than one message print"
   ]
  },
  {
   "cell_type": "code",
   "execution_count": 2,
   "id": "b3971fd8",
   "metadata": {},
   "outputs": [
    {
     "name": "stdout",
     "output_type": "stream",
     "text": [
      "Pass\n",
      "Good\n",
      "Perfect\n"
     ]
    }
   ],
   "source": [
    "def get_score(score: float):\n",
    "    if score >=50:\n",
    "        print(\"Pass\")\n",
    "    if score >=75:\n",
    "        print(\"Good\")\n",
    "    if score == 100:\n",
    "        print(\"Perfect\")\n",
    "\n",
    "get_score(100)"
   ]
  },
  {
   "cell_type": "markdown",
   "id": "5c1b906e",
   "metadata": {},
   "source": [
    "Exercise 3\n",
    "\n",
    "Write a program that returns the count of vowels in the string. Use a for loop to go through each character in the string.\n",
    "\n",
    "Input ==> apple, Output ==> 2\n",
    "\n",
    "Input ==> Hello World, Output => 3\n",
    "\n",
    "Input ==> balloon, Output ==> 3"
   ]
  },
  {
   "cell_type": "code",
   "execution_count": 4,
   "id": "c2b2edf4",
   "metadata": {},
   "outputs": [],
   "source": [
    "def count_vowels(st: str):\n",
    "    count=0\n",
    "    vowels = \"aeiou\"\n",
    "    for letter in st:\n",
    "        # print(letter)\n",
    "        if letter in vowels:\n",
    "            count+=1\n",
    "            # print(letter)\n",
    "        # if letter in []'a','e','i','o','u']:\n",
    "            # print(letter)\n",
    "            \n",
    "    return count\n",
    "    # print(\"%s has %d vowel\" %(st, count))"
   ]
  },
  {
   "cell_type": "code",
   "execution_count": 5,
   "id": "64239a6d",
   "metadata": {},
   "outputs": [
    {
     "data": {
      "text/plain": [
       "2"
      ]
     },
     "execution_count": 5,
     "metadata": {},
     "output_type": "execute_result"
    }
   ],
   "source": [
    "count_vowels(\"apple\")"
   ]
  },
  {
   "cell_type": "code",
   "execution_count": 6,
   "id": "ba263d0f",
   "metadata": {},
   "outputs": [
    {
     "data": {
      "text/plain": [
       "3"
      ]
     },
     "execution_count": 6,
     "metadata": {},
     "output_type": "execute_result"
    }
   ],
   "source": [
    "count_vowels(\"Hello World\")"
   ]
  },
  {
   "cell_type": "code",
   "execution_count": 9,
   "id": "4eaaae1d",
   "metadata": {},
   "outputs": [
    {
     "data": {
      "text/plain": [
       "3"
      ]
     },
     "execution_count": 9,
     "metadata": {},
     "output_type": "execute_result"
    }
   ],
   "source": [
    "count_vowels(\"balloon\")"
   ]
  }
 ],
 "metadata": {
  "kernelspec": {
   "display_name": "Python 3",
   "language": "python",
   "name": "python3"
  },
  "language_info": {
   "codemirror_mode": {
    "name": "ipython",
    "version": 3
   },
   "file_extension": ".py",
   "mimetype": "text/x-python",
   "name": "python",
   "nbconvert_exporter": "python",
   "pygments_lexer": "ipython3",
   "version": "3.13.7"
  }
 },
 "nbformat": 4,
 "nbformat_minor": 5
}
