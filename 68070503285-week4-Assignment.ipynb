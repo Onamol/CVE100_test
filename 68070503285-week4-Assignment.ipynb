{
 "cells": [
  {
   "cell_type": "markdown",
   "id": "8dcf162c",
   "metadata": {},
   "source": [
    "# Even and Odd\n",
    "iterate for loop from number 1 to n:\n",
    "if the number is even, print\"[number] is even\"printotherwise, print\"[number] is odd:\n",
    "\n",
    "if n = 5 ==> expected output\n",
    "0 is even.\n",
    "1 is odd.\n",
    "2 is even.\n",
    "3 is odd.\n",
    "4 is even.\n",
    "5 is odd."
   ]
  },
  {
   "cell_type": "code",
   "execution_count": 6,
   "id": "71ea6add",
   "metadata": {},
   "outputs": [
    {
     "name": "stdout",
     "output_type": "stream",
     "text": [
      "1 is odd\n",
      "2 is even\n",
      "3 is odd\n",
      "4 is even\n",
      "5 is odd\n"
     ]
    }
   ],
   "source": [
    "# If with else: check whether a number is even or odd\n",
    "n= 6\n",
    "for i in range(1,n):\n",
    "    if i%2==0:\n",
    "        print(i, \"is even\")\n",
    "    else:\n",
    "        print(i, \"is odd\")"
   ]
  },
  {
   "cell_type": "markdown",
   "id": "32d8b6bf",
   "metadata": {},
   "source": [
    "Division \n",
    "- define number n = 100\n",
    "- Use a loop from 1 to 10 (the value of looping variable variable is 1 to 10)\n",
    "- if the result of quotient (number/i) is grater than 5 => print (\"The result is large\")\n",
    "- if the result of quotient (number/i) is exactly equal to 6 ==> skip the loop with continue\n",
    "- otherwise, print the actual quotient ==> print (\"quotient=\"' quotient)"
   ]
  },
  {
   "cell_type": "code",
   "execution_count": 11,
   "id": "56d2ece2",
   "metadata": {},
   "outputs": [
    {
     "name": "stdout",
     "output_type": "stream",
     "text": [
      "The result is large\n",
      "The result is large\n",
      "The result is large\n",
      "The result is large\n",
      "The result is large\n",
      "The result is large\n",
      "The result is large\n",
      "The result is large\n",
      "quotient 4.444444444444445\n",
      "quotient 4.0\n"
     ]
    }
   ],
   "source": [
    "n = 40\n",
    "for i in range(1,11):\n",
    "    quotient = n/i\n",
    "    if quotient >= 5:\n",
    "        print(\"The result is large\")\n",
    "    elif quotient == 6:\n",
    "        continue\n",
    "    else :\n",
    "        print (\"quotient\", quotient)\n"
   ]
  },
  {
   "cell_type": "markdown",
   "id": "bdc5acc4",
   "metadata": {},
   "source": [
    "Login Authentication\n",
    "\n",
    "- Create a dictionary named \"credentials\" with username as key and password as values.\n",
    "- Initialize the dictionary with three users: (username - userl, password - abc123), (username - admi, password - adminpass,username - guest, password - guest123)\n",
    "- Ask the user to enter a username and password.\n",
    "- If the username exists and the password matches, print (\"Login succesful\")\n",
    "- If the username exsits but the password is wrong, print (\"Incorrect password\")\n",
    "- If the username does not exist, print \"User not found\""
   ]
  },
  {
   "cell_type": "code",
   "execution_count": 1,
   "id": "239dc6b3",
   "metadata": {},
   "outputs": [
    {
     "name": "stdout",
     "output_type": "stream",
     "text": [
      "User not found\n"
     ]
    }
   ],
   "source": [
    "credentials = {'Userl': 'abc123', 'admin':'adminpass', 'guest': 'guest123'}\n",
    "username = input(\"Enter usename\")\n",
    "password = input(\"Enter password\")\n",
    "# if username in credentai dictionary\n",
    "    # check whether username and password are equal\n",
    "    # if username and password matches\n",
    "    # else\n",
    "        #print (Login succesful)\n",
    "# else\n",
    "    #print (User not found)\n",
    "if username in credentials:\n",
    "    if credentials[username] == password:\n",
    "        print('Login succesful')\n",
    "    else:\n",
    "        print('incorrect password')\n",
    "else:\n",
    "    print('user not found')\n",
    "D = {'userl': 'abc123', 'admin':'adminpass', 'guest': 'guest123'}\n"
   ]
  },
  {
   "cell_type": "code",
   "execution_count": 7,
   "id": "452ebd74",
   "metadata": {},
   "outputs": [
    {
     "name": "stdout",
     "output_type": "stream",
     "text": [
      "* * * * * \n",
      "* * * * * \n",
      "* * * * * \n",
      "* * * * * \n",
      "* * * * * \n"
     ]
    }
   ],
   "source": [
    "stars = 5\n",
    "rows = 5\n",
    "for i in range(1, rows+1):\n",
    "    for j in range(1, stars+1):\n",
    "        print(\"*\", end=\" \")\n",
    "    print() # Newline"
   ]
  },
  {
   "cell_type": "code",
   "execution_count": 12,
   "id": "60280a2c",
   "metadata": {},
   "outputs": [
    {
     "name": "stdout",
     "output_type": "stream",
     "text": [
      "* \n",
      "* * \n",
      "* * * \n",
      "* * * * \n",
      "* * * * * \n"
     ]
    }
   ],
   "source": [
    "stars = 5\n",
    "rows = 5\n",
    "for i in range(1, rows+1):\n",
    "    for i in range(i):\n",
    "        print(\"*\", end=\" \")\n",
    "    print()"
   ]
  },
  {
   "cell_type": "code",
   "execution_count": null,
   "id": "42969262",
   "metadata": {},
   "outputs": [],
   "source": [
    "Shopping Cart checkout\n",
    "\n",
    "Use initial variable total_bill=0\n",
    "Ask user to add price and add the price to total_bill.\n",
    "If total_bill>=1000, print (\"limit reached. You cannot buy anymore\" and break the loop)\n",
    "Otherwise, ask user to add price"
   ]
  },
  {
   "cell_type": "code",
   "execution_count": 2,
   "id": "894a933a",
   "metadata": {},
   "outputs": [
    {
     "name": "stdout",
     "output_type": "stream",
     "text": [
      "1249.0\n",
      "Limit reached. You cannot buy anymore\n"
     ]
    }
   ],
   "source": [
    "total_bill = 0\n",
    "while total_bill<=1000:\n",
    "    price = float(input('Enter price of the item'))\n",
    "    total_bill=total_bill+price\n",
    "    print(total_bill)\n",
    "    # break\n",
    "print (\"Limit reached. You cannot buy anymore\")"
   ]
  }
 ],
 "metadata": {
  "kernelspec": {
   "display_name": "Python 3",
   "language": "python",
   "name": "python3"
  },
  "language_info": {
   "codemirror_mode": {
    "name": "ipython",
    "version": 3
   },
   "file_extension": ".py",
   "mimetype": "text/x-python",
   "name": "python",
   "nbconvert_exporter": "python",
   "pygments_lexer": "ipython3",
   "version": "3.12.6"
  }
 },
 "nbformat": 4,
 "nbformat_minor": 5
}
